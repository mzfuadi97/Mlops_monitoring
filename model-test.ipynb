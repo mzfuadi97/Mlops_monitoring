{
 "cells": [
  {
   "cell_type": "code",
   "execution_count": 1,
   "metadata": {},
   "outputs": [],
   "source": [
    "import tensorflow as tf\n",
    "import pandas as pd\n",
    "import requests\n",
    "import json\n",
    "import base64\n",
    "import random"
   ]
  },
  {
   "cell_type": "code",
   "execution_count": 2,
   "metadata": {},
   "outputs": [
    {
     "data": {
      "text/plain": [
       "{'age': 30,\n",
       " 'job': 'unemployed',\n",
       " 'marital': 'married',\n",
       " 'education': 'high.school',\n",
       " 'default': 'no',\n",
       " 'housing': 'no',\n",
       " 'loan': 'no',\n",
       " 'contact': 'telephone',\n",
       " 'month': 'may',\n",
       " 'day_of_week': 'mon',\n",
       " 'duration': 38,\n",
       " 'campaign': 1,\n",
       " 'pdays': 999,\n",
       " 'previous': 0,\n",
       " 'poutcome': 'nonexistent',\n",
       " 'emp.var.rate': 1.1,\n",
       " 'cons.price.idx': 93.994,\n",
       " 'cons.conf.idx': -36.4,\n",
       " 'euribor3m': 4.857,\n",
       " 'nr.employed': 5191.0}"
      ]
     },
     "execution_count": 2,
     "metadata": {},
     "output_type": "execute_result"
    }
   ],
   "source": [
    "#laod dataset yang akan digunakan untuk test\n",
    "df = pd.read_csv(\"data/bank-additional-full.csv\")\n",
    "df.pop(\"y\")\n",
    "\n",
    "columns = df.columns.values\n",
    "rand = random.randint(0, len(columns))\n",
    "\n",
    "features = df.values[rand]\n",
    "\n",
    "inputs = {key: value for key, value in zip(columns, features)}\n",
    "inputs"
   ]
  },
  {
   "cell_type": "code",
   "execution_count": 3,
   "metadata": {},
   "outputs": [
    {
     "name": "stdout",
     "output_type": "stream",
     "text": [
      "Kolom 'age' memiliki nilai unik: 78\n",
      "Kolom 'job' memiliki nilai unik: 12\n",
      "Kolom 'marital' memiliki nilai unik: 4\n",
      "Kolom 'education' memiliki nilai unik: 8\n",
      "Kolom 'default' memiliki nilai unik: 3\n",
      "Kolom 'housing' memiliki nilai unik: 3\n",
      "Kolom 'loan' memiliki nilai unik: 3\n",
      "Kolom 'contact' memiliki nilai unik: 2\n",
      "Kolom 'month' memiliki nilai unik: 10\n",
      "Kolom 'day_of_week' memiliki nilai unik: 5\n",
      "Kolom 'duration' memiliki nilai unik: 1544\n",
      "Kolom 'campaign' memiliki nilai unik: 42\n",
      "Kolom 'pdays' memiliki nilai unik: 27\n",
      "Kolom 'previous' memiliki nilai unik: 8\n",
      "Kolom 'poutcome' memiliki nilai unik: 3\n",
      "Kolom 'emp.var.rate' memiliki nilai unik: 10\n",
      "Kolom 'cons.price.idx' memiliki nilai unik: 26\n",
      "Kolom 'cons.conf.idx' memiliki nilai unik: 26\n",
      "Kolom 'euribor3m' memiliki nilai unik: 316\n",
      "Kolom 'nr.employed' memiliki nilai unik: 11\n"
     ]
    }
   ],
   "source": [
    "for kolom in df.columns:\n",
    "    nilai_unik = df[kolom].nunique()\n",
    "    print(f\"Kolom '{kolom}' memiliki nilai unik: {nilai_unik}\")"
   ]
  },
  {
   "cell_type": "code",
   "execution_count": 4,
   "metadata": {},
   "outputs": [],
   "source": [
    "def string_feature(value):\n",
    "    return tf.train.Feature(\n",
    "        bytes_list=tf.train.BytesList(\n",
    "            value=[bytes(value, \"utf-8\")]\n",
    "        ),\n",
    "    )\n",
    "    \n",
    "def float_feature(value):\n",
    "    return tf.train.Feature(\n",
    "        float_list=tf.train.FloatList(\n",
    "            value=[value]\n",
    "        ),\n",
    "    )\n",
    "    \n",
    "def int_feature(value):\n",
    "    return tf.train.Feature(\n",
    "        int64_list=tf.train.Int64List(\n",
    "            value=[value]\n",
    "        ),\n",
    "    )"
   ]
  },
  {
   "cell_type": "code",
   "execution_count": 5,
   "metadata": {},
   "outputs": [
    {
     "data": {
      "text/plain": [
       "age                 int64\n",
       "job                object\n",
       "marital            object\n",
       "education          object\n",
       "default            object\n",
       "housing            object\n",
       "loan               object\n",
       "contact            object\n",
       "month              object\n",
       "day_of_week        object\n",
       "duration            int64\n",
       "campaign            int64\n",
       "pdays               int64\n",
       "previous            int64\n",
       "poutcome           object\n",
       "emp.var.rate      float64\n",
       "cons.price.idx    float64\n",
       "cons.conf.idx     float64\n",
       "euribor3m         float64\n",
       "nr.employed       float64\n",
       "dtype: object"
      ]
     },
     "execution_count": 5,
     "metadata": {},
     "output_type": "execute_result"
    }
   ],
   "source": [
    "df.dtypes"
   ]
  },
  {
   "cell_type": "code",
   "execution_count": 6,
   "metadata": {},
   "outputs": [],
   "source": [
    "def prepare_json(inputs: dict):\n",
    "    feature_spec = dict()\n",
    "    \n",
    "    for keys, values in inputs.items():\n",
    "        if isinstance(values, float):\n",
    "            feature_spec[keys] = float_feature(values)\n",
    "        elif isinstance(values, int):\n",
    "            feature_spec[keys] = int_feature(values)\n",
    "        elif isinstance(values, str):\n",
    "            feature_spec[keys] = string_feature(values)\n",
    "            \n",
    "    example = tf.train.Example(\n",
    "        features=tf.train.Features(feature=feature_spec)\n",
    "    ).SerializeToString()\n",
    "        \n",
    "    result = [\n",
    "        {\n",
    "            \"examples\": {\n",
    "                \"b64\": base64.b64encode(example).decode()\n",
    "            }\n",
    "        }\n",
    "    ]\n",
    "    \n",
    "    return json.dumps({\n",
    "        \"signature_name\": \"serving_default\",\n",
    "        \"instances\": result,\n",
    "    })"
   ]
  },
  {
   "cell_type": "code",
   "execution_count": 7,
   "metadata": {},
   "outputs": [],
   "source": [
    "def make_predictions(inputs):\n",
    "    json_data = prepare_json(inputs)\n",
    "    \n",
    "    endpoint = \"https://churn-prediction-production.up.railway.app/v1/models/churn-prediction:predict\"\n",
    "    response = requests.post(endpoint, data=json_data)\n",
    "\n",
    "    prediction = response.json().get(\"predictions\")\n",
    "    if prediction:\n",
    "        prediction_value = prediction[0][0]\n",
    "        result = \"No Churn\" if prediction_value < 0.5 else \"Churn\"\n",
    "    else:\n",
    "        result = \"Error: No predictions found in response.\"\n",
    "    print(result)"
   ]
  },
  {
   "cell_type": "code",
   "execution_count": 8,
   "metadata": {},
   "outputs": [
    {
     "name": "stdout",
     "output_type": "stream",
     "text": [
      "No Churn\n"
     ]
    }
   ],
   "source": [
    "make_predictions(inputs)"
   ]
  },
  {
   "cell_type": "code",
   "execution_count": null,
   "metadata": {},
   "outputs": [],
   "source": []
  }
 ],
 "metadata": {
  "kernelspec": {
   "display_name": "Python 3 (ipykernel)",
   "language": "python",
   "name": "python3"
  },
  "language_info": {
   "codemirror_mode": {
    "name": "ipython",
    "version": 3
   },
   "file_extension": ".py",
   "mimetype": "text/x-python",
   "name": "python",
   "nbconvert_exporter": "python",
   "pygments_lexer": "ipython3",
   "version": "3.9.15"
  }
 },
 "nbformat": 4,
 "nbformat_minor": 2
}
